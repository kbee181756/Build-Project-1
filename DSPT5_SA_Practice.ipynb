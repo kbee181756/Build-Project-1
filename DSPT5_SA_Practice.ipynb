{
  "nbformat": 4,
  "nbformat_minor": 0,
  "metadata": {
    "colab": {
      "name": "DSPT5_SA_Practice.ipynb",
      "provenance": [],
      "collapsed_sections": [],
      "include_colab_link": true
    },
    "kernelspec": {
      "name": "python3",
      "display_name": "Python 3"
    }
  },
  "cells": [
    {
      "cell_type": "markdown",
      "metadata": {
        "id": "view-in-github",
        "colab_type": "text"
      },
      "source": [
        "<a href=\"https://colab.research.google.com/github/kbee181756/Build-Project-1/blob/master/DSPT5_SA_Practice.ipynb\" target=\"_parent\"><img src=\"https://colab.research.google.com/assets/colab-badge.svg\" alt=\"Open In Colab\"/></a>"
      ]
    },
    {
      "cell_type": "markdown",
      "metadata": {
        "id": "jj4gSmsn_tOc",
        "colab_type": "text"
      },
      "source": [
        "# Sentiment Analysis Practice \n"
      ]
    },
    {
      "cell_type": "markdown",
      "metadata": {
        "id": "vUbyWeI7_7Xl",
        "colab_type": "text"
      },
      "source": [
        "In this tutorial we'll be covering how to use a pretrained sentiment analysis model from VaderSentiment. It should be known, this code is heavily influenced from [this how to](https://www.geeksforgeeks.org/python-sentiment-analysis-using-vader/) by geeksforgeeks."
      ]
    },
    {
      "cell_type": "markdown",
      "metadata": {
        "id": "mLiz_vKhAjP3",
        "colab_type": "text"
      },
      "source": [
        "## Prework"
      ]
    },
    {
      "cell_type": "markdown",
      "metadata": {
        "id": "iW-4CJr5A4Xe",
        "colab_type": "text"
      },
      "source": [
        "### Imports and Dummy data"
      ]
    },
    {
      "cell_type": "code",
      "metadata": {
        "id": "KzFI5nKPAnwX",
        "colab_type": "code",
        "colab": {}
      },
      "source": [
        "# Installing vaderSentiment\n",
        "!pip install vaderSentiment"
      ],
      "execution_count": 0,
      "outputs": []
    },
    {
      "cell_type": "code",
      "metadata": {
        "id": "Ze4OZo0KBB5c",
        "colab_type": "code",
        "colab": {}
      },
      "source": [
        "#Example sentences\n",
        "sentence1 = \"I hate everyone at Hacker News, you all suck and I hope you have a rotten day\"\n",
        "sentence2 = \"I love everyone at Hacker News! you all make me feel warm and fuzzy inside\"\n",
        "sentence3 = \"I mostly like everyone at Hacker News, but sometimes this site is toxic\"\n",
        "#Example lists\n",
        "sentence_list = [sentence1, sentence2, sentence3]"
      ],
      "execution_count": 0,
      "outputs": []
    },
    {
      "cell_type": "markdown",
      "metadata": {
        "id": "7Jk3Ym7aB8Dj",
        "colab_type": "text"
      },
      "source": [
        "### Geeksforgeeks code"
      ]
    },
    {
      "cell_type": "code",
      "metadata": {
        "id": "CNvU6YKyBtap",
        "colab_type": "code",
        "colab": {}
      },
      "source": [
        "# import SentimentIntensityAnalyzer class \n",
        "# from vaderSentiment.vaderSentiment module. \n",
        "from vaderSentiment.vaderSentiment import SentimentIntensityAnalyzer \n",
        "  \n",
        "# function to print sentiments \n",
        "# of the sentence. \n",
        "def sentiment_scores(sentence): \n",
        "  \n",
        "    # Create a SentimentIntensityAnalyzer object. \n",
        "    sid_obj = SentimentIntensityAnalyzer() \n",
        "  \n",
        "    # polarity_scores method of SentimentIntensityAnalyzer \n",
        "    # oject gives a sentiment dictionary. \n",
        "    # which contains pos, neg, neu, and compound scores. \n",
        "    sentiment_dict = sid_obj.polarity_scores(sentence) \n",
        "      \n",
        "    print(\"Overall sentiment dictionary is : \", sentiment_dict['compound']) \n",
        "    print(\"sentence was rated as \", sentiment_dict['neg']*100, \"% Negative\") \n",
        "    print(\"sentence was rated as \", sentiment_dict['neu']*100, \"% Neutral\") \n",
        "    print(\"sentence was rated as \", sentiment_dict['pos']*100, \"% Positive\") \n",
        "  \n",
        "    print(\"Sentence Overall Rated As\", end = \" \") \n",
        "  \n",
        "    # decide sentiment as positive, negative and neutral \n",
        "    if sentiment_dict['compound'] >= 0.05 : \n",
        "        print(\"Positive\") \n",
        "  \n",
        "    elif sentiment_dict['compound'] <= - 0.05 : \n",
        "        print(\"Negative\") \n",
        "  \n",
        "    else : \n",
        "        print(\"Neutral\")"
      ],
      "execution_count": 0,
      "outputs": []
    },
    {
      "cell_type": "code",
      "metadata": {
        "id": "mGmGJo-7C6YS",
        "colab_type": "code",
        "colab": {}
      },
      "source": [
        "# Single sentence sentiment analysis\n",
        "sentiment_scores(sentence1)"
      ],
      "execution_count": 0,
      "outputs": []
    },
    {
      "cell_type": "code",
      "metadata": {
        "id": "PLNkbltsDCIP",
        "colab_type": "code",
        "colab": {}
      },
      "source": [
        "# All together now!\n",
        "for sentence in sentence_list:\n",
        "  sentiment_scores(sentence)\n",
        "  print()"
      ],
      "execution_count": 0,
      "outputs": []
    },
    {
      "cell_type": "markdown",
      "metadata": {
        "id": "EhboMIknHKtm",
        "colab_type": "text"
      },
      "source": [
        "## Make a function! "
      ]
    },
    {
      "cell_type": "code",
      "metadata": {
        "id": "5OHPkpy4HPug",
        "colab_type": "code",
        "colab": {}
      },
      "source": [
        "# My custom function to take an individual sentence and give it a score\n",
        "def custom_score(sentence):\n",
        "  '''Takes a sentence and gives a compound sentiment score'''\n",
        "  \n",
        "  # Create a SentimentIntensityAnalyzer object. \n",
        "  sid_obj = SentimentIntensityAnalyzer() \n",
        "\n",
        "  # polarity_scores method of SentimentIntensityAnalyzer \n",
        "  # oject gives a sentiment dictionary.  \n",
        "  sentiment_dict = sid_obj.polarity_scores(sentence)\n",
        "\n",
        "  return sentiment_dict['compound']"
      ],
      "execution_count": 0,
      "outputs": []
    },
    {
      "cell_type": "code",
      "metadata": {
        "id": "RnP9TafPHoBR",
        "colab_type": "code",
        "colab": {}
      },
      "source": [
        "#Compound sum of scores\n",
        "def compound_sum_score(sentence_list):\n",
        "  \n",
        "  sentiment_lst = []\n",
        "\n",
        "\n",
        "  for sentence in sentence_list:\n",
        "    sentiment_lst.append(custom_score(sentence))\n",
        "\n",
        "  sentiment_score = sum(sentiment_lst) # / len(sentiment_lst)\n",
        "\n",
        "\n",
        "  return sentiment_score"
      ],
      "execution_count": 0,
      "outputs": []
    },
    {
      "cell_type": "code",
      "metadata": {
        "id": "BuGYDXWhH21F",
        "colab_type": "code",
        "colab": {}
      },
      "source": [
        "#Running example sentences through individual scores\n",
        "for sentence in sentence_list:\n",
        "  print(sentence, custom_score(sentence))"
      ],
      "execution_count": 0,
      "outputs": []
    },
    {
      "cell_type": "code",
      "metadata": {
        "id": "5O_3_NwhH6Wj",
        "colab_type": "code",
        "colab": {}
      },
      "source": [
        "#Test run\n",
        "compound_sum_score(sentence_list)"
      ],
      "execution_count": 0,
      "outputs": []
    }
  ]
}